{
  "nbformat": 4,
  "nbformat_minor": 0,
  "metadata": {
    "colab": {
      "provenance": [],
      "collapsed_sections": [
        "nT8sHIOqgMWI",
        "HEcbFs1nqXma",
        "GMCbcEs0vec4"
      ]
    },
    "kernelspec": {
      "name": "python3",
      "display_name": "Python 3"
    },
    "language_info": {
      "name": "python"
    }
  },
  "cells": [
    {
      "cell_type": "markdown",
      "source": [
        "## Due March 28th 2025, 11:59pm\n",
        "\n",
        "**Instructions:** Code can be added by `+Code` tab and text can be added by `+Text` tab whenever needed.\n",
        "\n"
      ],
      "metadata": {
        "id": "7Bnq-ZfWfHYw"
      }
    },
    {
      "cell_type": "markdown",
      "source": [
        "## Problem 1. [10 points]\n",
        "Short problems to practice syntax."
      ],
      "metadata": {
        "id": "nT8sHIOqgMWI"
      }
    },
    {
      "cell_type": "markdown",
      "source": [
        "1.1 Print \"Hello, everyone in COE 301! I am [Your name].\""
      ],
      "metadata": {
        "id": "vYmYyxkZgXVl"
      }
    },
    {
      "cell_type": "code",
      "source": [
        "print(\"Hello, everyone in COE301! I am Hannah Lu.\")"
      ],
      "metadata": {
        "colab": {
          "base_uri": "https://localhost:8080/"
        },
        "id": "SN1AA7-NfaVu",
        "outputId": "992991ba-c76e-4854-ef8c-d2de62ecefc8"
      },
      "execution_count": null,
      "outputs": [
        {
          "output_type": "stream",
          "name": "stdout",
          "text": [
            "Hello, everyone in COE301! I am Hannah Lu.\n"
          ]
        }
      ]
    },
    {
      "cell_type": "markdown",
      "source": [
        "1.2 print the mathematical Euler's number $e$ to 4 decimal"
      ],
      "metadata": {
        "id": "eoR6HvoPh363"
      }
    },
    {
      "cell_type": "code",
      "source": [
        "import math\n",
        "print(f\"e to 4 decimal places: {math.e: .4f}\")"
      ],
      "metadata": {
        "colab": {
          "base_uri": "https://localhost:8080/"
        },
        "id": "4akOaRXTh1Bl",
        "outputId": "6e46a0aa-9b47-441e-cca4-1fc1be88505c"
      },
      "execution_count": null,
      "outputs": [
        {
          "output_type": "stream",
          "name": "stdout",
          "text": [
            "e to 4 decimal places:  2.7183\n"
          ]
        }
      ]
    },
    {
      "cell_type": "markdown",
      "source": [
        "1.3 Print out the value of $y = sin(t) +cos(5t) +0.5sin(10t)+0.8cos(20t)$ when $t = 3$"
      ],
      "metadata": {
        "id": "ylcV0LlwkoK9"
      }
    },
    {
      "cell_type": "code",
      "source": [
        "t = 3\n",
        "y = math.sin(t) + math.cos(5*t) + 0.5*math.sin(10*t) + 0.8*math.cos(20*t)\n",
        "print(f\"y = {y}\")"
      ],
      "metadata": {
        "colab": {
          "base_uri": "https://localhost:8080/"
        },
        "id": "Xj2orkDukna3",
        "outputId": "52c76556-eafe-41c5-cc9d-b727187516af"
      },
      "execution_count": null,
      "outputs": [
        {
          "output_type": "stream",
          "name": "stdout",
          "text": [
            "y = -1.87451410117751\n"
          ]
        }
      ]
    },
    {
      "cell_type": "markdown",
      "source": [
        "1.4 Write a function named `WaterTank`, which takes $r$ and $h$ as input and return $V = \\pi r^2 h$. Print the value of $V$ when $r = 2.5$ and $h = 2.4$. (We did in C++ for this in HW2)"
      ],
      "metadata": {
        "id": "sfVflL_ileMp"
      }
    },
    {
      "cell_type": "code",
      "source": [
        "def WaterTank(r,h):\n",
        "  V = math.pi*r**2*h\n",
        "  return V\n",
        "\n",
        "V = WaterTank(2.5,2.4)\n",
        "print(f\"V = {V}\")"
      ],
      "metadata": {
        "colab": {
          "base_uri": "https://localhost:8080/"
        },
        "id": "vLj1zABBi6uE",
        "outputId": "5af9e13e-d388-4722-b1a7-bcd8aea8e73b"
      },
      "execution_count": null,
      "outputs": [
        {
          "output_type": "stream",
          "name": "stdout",
          "text": [
            "V = 47.1238898038469\n"
          ]
        }
      ]
    },
    {
      "cell_type": "markdown",
      "source": [
        "1.5 A number is considered \"Lucky\" if it is divisible by 7. If the number is also divisible by 13, it is considered \"Extra Lucky\". Use list comprehensions to print out all \"Lucky\" positive numbers less than 100 and all \"Extra Lucky\" positive numbers less than 100."
      ],
      "metadata": {
        "id": "6wOivNs_odFo"
      }
    },
    {
      "cell_type": "code",
      "source": [
        "S_lucky = [i for i in range(1,101) if i%7 == 0]\n",
        "S_extra_lucky = [i for i in range(1,101) if (i%7 == 0)&(i%13 == 0)]\n",
        "print(f\"Lucky: {S_lucky}\")\n",
        "print(f\"Extra Lucky: {S_extra_lucky}\")"
      ],
      "metadata": {
        "colab": {
          "base_uri": "https://localhost:8080/"
        },
        "id": "GNz14nKaltJN",
        "outputId": "3214d2a6-4adb-4c71-d020-1b7a2448b82d"
      },
      "execution_count": null,
      "outputs": [
        {
          "output_type": "stream",
          "name": "stdout",
          "text": [
            "Lucky: [7, 14, 21, 28, 35, 42, 49, 56, 63, 70, 77, 84, 91, 98]\n",
            "Extra Lucky: [91]\n"
          ]
        }
      ]
    },
    {
      "cell_type": "markdown",
      "source": [
        "## Problem 2. [15 Points]\n",
        "Define a class `UT_ID` with methods of `set_EID`, `state_EID`, `set_ID_number`, `state_IDnumber` and `say_sth`. Create an object of yourself, with your name, set your EID and IDnumber with the created object. Print your EID and ID number using `state_EID` and `state_IDnumber`. Use `say_sth` to print out {your name} says: I love UT!"
      ],
      "metadata": {
        "id": "HEcbFs1nqXma"
      }
    },
    {
      "cell_type": "code",
      "source": [
        "class UT_ID:\n",
        "    def __init__(self, name: str = None):\n",
        "        self.name = name\n",
        "        print(f\"A UT ID with name {name} is created :-)\")\n",
        "\n",
        "    def set_EID(self, EID = None):\n",
        "        self.EID = EID\n",
        "\n",
        "    def state_EID(self):\n",
        "        print(f\"{self.name}'s EID is {self.EID}.\")\n",
        "\n",
        "    def set_IDnumber(self, IDnumber = None):\n",
        "        self.IDnumber = IDnumber\n",
        "\n",
        "    def state_IDnumber(self):\n",
        "        print(f\"{self.name}'s ID number is {self.IDnumber}.\")\n",
        "\n",
        "    def say_sth(self, sound:str = 'I love UT!'):\n",
        "        print(f\"{self.name} says: {sound}\")"
      ],
      "metadata": {
        "id": "8McUudDlpJ9n"
      },
      "execution_count": null,
      "outputs": []
    },
    {
      "cell_type": "code",
      "source": [
        "Hannah = UT_ID(name = \"Hannah Lu\")\n",
        "Hannah.set_EID(EID = 'hl25623')\n",
        "Hannah.state_EID()\n",
        "Hannah.set_IDnumber(IDnumber = '1234567891234567')\n",
        "Hannah.state_IDnumber()\n",
        "Hannah.say_sth()"
      ],
      "metadata": {
        "colab": {
          "base_uri": "https://localhost:8080/"
        },
        "id": "kshl7Qzisnve",
        "outputId": "f1b460f1-2ade-46a5-d1e1-7ab9e213857c"
      },
      "execution_count": null,
      "outputs": [
        {
          "output_type": "stream",
          "name": "stdout",
          "text": [
            "A UT ID with name Hannah Lu is created :-)\n",
            "Hannah Lu's EID is hl25623.\n",
            "Hannah Lu's ID number is 1234567891234567.\n",
            "Hannah Lu says: I love UT!\n"
          ]
        }
      ]
    },
    {
      "cell_type": "code",
      "source": [],
      "metadata": {
        "id": "Hi3-qYx8uMSN"
      },
      "execution_count": null,
      "outputs": []
    },
    {
      "cell_type": "markdown",
      "source": [
        "## Problem 3. [15 Points]\n",
        "Recall that we used numerical integration to approximate the value of $\\pi$ in HW4 with C++. Now write a python code to implement this. Declare a functio named `NI_PI` with input N (the number of rectangles) and output the estimated $\\pi$ value. Print the results with $N = 100, 1000$ and $10000$ and the corresponding error with true $\\pi$."
      ],
      "metadata": {
        "id": "GMCbcEs0vec4"
      }
    },
    {
      "cell_type": "code",
      "source": [
        "def NI_PI(N):\n",
        "    \"\"\"\n",
        "    approximate the value of pi using numerical integration.\n",
        "\n",
        "    Parameters:\n",
        "    - N: number of rectangles.\n",
        "\n",
        "\n",
        "    Returns:\n",
        "    - Approximation of pi\n",
        "    \"\"\"\n",
        "    dx = 1/N\n",
        "    S = 0\n",
        "    for i in range(N):\n",
        "        xi = i*dx\n",
        "        yi = math.sqrt(1-xi**2)\n",
        "        S = S + dx*yi\n",
        "    return 4*S"
      ],
      "metadata": {
        "id": "hRJNz-utv2bM"
      },
      "execution_count": null,
      "outputs": []
    },
    {
      "cell_type": "code",
      "source": [
        "print(f\"Using 100 points to approximate pi = {NI_PI(100)} with an error {math.pi-NI_PI(100)}\", )\n",
        "print(f\"Using 1000 points to approximate pi: {NI_PI(1000)} with an error {math.pi-NI_PI(1000)}\")\n",
        "print(f\"Using 10000 points to approximate pi: {NI_PI(10000)} with an error {math.pi-NI_PI(10000)} \")"
      ],
      "metadata": {
        "colab": {
          "base_uri": "https://localhost:8080/"
        },
        "id": "uBiybY6cx6UV",
        "outputId": "8bb1174a-c98a-4be7-e5ce-dfbf0195fc86"
      },
      "execution_count": null,
      "outputs": [
        {
          "output_type": "stream",
          "name": "stdout",
          "text": [
            "Using 100 points to approximate pi = 3.160417031779047 with an error -0.018824378189254087\n",
            "Using 1000 points to approximate pi: 3.143555466911028 with an error -0.0019628133212350463\n",
            "Using 10000 points to approximate pi: 3.1417914776113167 with an error -0.00019882402152360257 \n"
          ]
        }
      ]
    },
    {
      "cell_type": "markdown",
      "source": [
        "## Problem 4 [30 Points]\n",
        "\n",
        "**Cash 5 Lottery**: Cash 5 lottery asks the player to select 5\n",
        "numbers from 1 and 35, and the player win the big prize by matching all five numbers. Write a function `count_matches` that takes a vector that contains 5 unique winning integers, and another vector of 5 unique integers a player chose. The numbers are NOT sorted. The function returns the number of matches between the winning numbers and your ticket.\n",
        "\n",
        "|Winning numbers|Player's numbers|function returns|\n",
        "|---------------|----------------|----------------|\n",
        "|[1,12,3,20,15] | [15,1,4,12,35] | 3 |\n",
        "|[35,7,26,17,8] | [8,7,26,35,17] | 5 |\n",
        "|[27,2,9,15,29] | [3,1,8,14,20]  | 0 |\n",
        "\n",
        "Write a Python code that reads 1000 Cash 5 tickes from txt file `tickets.txt` (each line contains 5 numbers that the player chose for a ticket) and compare them with the winning number [31,17,4,5,20]. Count how many tickets matches five numbers, four numbers, three numbers, two numbers, one numbers and zero numbers using the function `count_matches`.\n",
        "\n",
        "[*Hint: `tickets` is a list. You can define a dictionary match_counts which contains pairs of 5 matched numbers and the count of 5 matched numbers, 4 matched numbers and the count of 4 matched numbers, ...*]"
      ],
      "metadata": {
        "id": "j90Vscunzl_M"
      }
    },
    {
      "cell_type": "code",
      "source": [
        "def count_matches(winning_numbers, player_numbers):\n",
        "  \"\"\"\n",
        "    Function to count how many numbers match between the winning numbers\n",
        "    and the player's ticket.\n",
        "\n",
        "    Parameters:\n",
        "        winning_numbers (list of int): A list of 5 unique winning numbers.\n",
        "        player_numbers (list of int): A list of 5 unique numbers chosen by the player.\n",
        "\n",
        "    Returns:\n",
        "        int: The number of matches (0 to 5).\n",
        "    \"\"\"\n",
        "  count = 0\n",
        "  for num in player_numbers:\n",
        "      if num in winning_numbers:  # Check if num is in the winning numbers\n",
        "          count += 1  # Increase the count if there's a match\n",
        "  return count\n",
        "  #return len(set(winning_numbers) & set(player_numbers))"
      ],
      "metadata": {
        "id": "mJYESyxtzrlR"
      },
      "execution_count": null,
      "outputs": []
    },
    {
      "cell_type": "code",
      "source": [
        "# Step 1: Get the 5 Winning Numbers from User\n",
        "winning_numbers = [31,  17,  4,  5,  20]\n",
        "\n",
        "# Step 2: Open the file containing 1000 tickets\n",
        "with open(\"tickets.txt\", \"r\") as file:\n",
        "  tickets = [list(map(int, line.split())) for line in file]\n",
        "\n",
        "# Step 3: Initialize Counters for Matches\n",
        "match_counts = {5: 0, 4: 0, 3: 0, 2: 0, 1: 0, 0: 0}\n",
        "\n",
        "# Step 4: Check Each Ticket Against Winning Numbers\n",
        "for ticket in tickets:\n",
        "  matches = count_matches(winning_numbers, ticket)\n",
        "  if matches in match_counts:\n",
        "    match_counts[matches] += 1  # Update the count\n",
        "\n",
        "# Step 5: Print Results\n",
        "print(\"\\nLottery Results:\")\n",
        "print(f\"Tickets with 5 matches (Jackpot!): {match_counts[5]}\")\n",
        "print(f\"Tickets with 4 matches: {match_counts[4]}\")\n",
        "print(f\"Tickets with 3 matches: {match_counts[3]}\")\n",
        "print(f\"Tickets with 2 matches: {match_counts[2]}\")\n",
        "print(f\"Tickets with 1 matches: {match_counts[1]}\")\n",
        "print(f\"Tickets with 0 matches: {match_counts[0]}\")"
      ],
      "metadata": {
        "colab": {
          "base_uri": "https://localhost:8080/"
        },
        "id": "31_m3-Vdz84j",
        "outputId": "e5accd68-4958-4fd8-b98f-eed7cb425850"
      },
      "execution_count": null,
      "outputs": [
        {
          "output_type": "stream",
          "name": "stdout",
          "text": [
            "\n",
            "Lottery Results:\n",
            "Tickets with 5 matches (Jackpot!): 1\n",
            "Tickets with 4 matches: 1\n",
            "Tickets with 3 matches: 12\n",
            "Tickets with 2 matches: 120\n",
            "Tickets with 1 matches: 386\n",
            "Tickets with 0 matches: 480\n"
          ]
        }
      ]
    },
    {
      "cell_type": "markdown",
      "source": [
        "## Problem 5 [30 Points]\n",
        "\n",
        "Read more about magic method: Magic Method : https://python-course.eu/oop/magic-methods.php\n",
        "### Add more operations to `Rational` in Lecture 23.\n",
        "You can read about the available operations that you can overload [here](https://docs.python.org/3.7/reference/datamodel.html#emulating-numeric-types)\n",
        "\n",
        "Add the following operations to the `Rational` class:\n",
        "* `*` - use `__mul__`\n",
        "* `/` - use `__truediv__`\n",
        "* `-` - use `__sub__`\n",
        "\n",
        "You only need to define these operations between two `Rational` types - use an `if isinstance(other, Rational):` block.\n",
        "\n",
        "Test the results with $r_1 = 3/4$, $r_2 = 5/2$ and print `r_1 *r_2`, `r_1/r_2` and `r_1-r_2` and `float(r1/r2)`"
      ],
      "metadata": {
        "id": "6wl6dtQi_ntK"
      }
    },
    {
      "cell_type": "code",
      "source": [
        "class Rational:\n",
        "    def __init__(self, p, q=1):\n",
        "\n",
        "        if q == 0:\n",
        "            raise ValueError(\"Denominator must not be zero\")\n",
        "        if not isinstance(p, int):\n",
        "            raise TypeError(\"Numerator must be an integer\")\n",
        "        if not isinstance(q, int):\n",
        "            raise TypeError(\"Denominator must be an integer\")\n",
        "\n",
        "        g = math.gcd(p, q)\n",
        "\n",
        "        self.p = p // g\n",
        "        self.q = q // g\n",
        "\n",
        "    # method to convert rational to float\n",
        "    def __float__(self):\n",
        "        return float(self.p) / float(self.q)\n",
        "\n",
        "    # method to convert rational to string for printing\n",
        "    def __str__(self):\n",
        "        return \"%d / %d\" % (self.p, self.q)\n",
        "\n",
        "    # method to add two rationals - interprets self + other\n",
        "    def __add__(self, other):\n",
        "        if isinstance(other, Rational):\n",
        "            return Rational(self.p * other.q + other.p * self.q, self.q * other.q)\n",
        "        # -- if it's an integer...\n",
        "        elif isinstance(other, int):\n",
        "            return Rational(self.p + other * self.q, self.q)\n",
        "        # -- otherwise, we assume it will be a float\n",
        "        return float(self) + float(other)\n",
        "\n",
        "    def __radd__(self, other):  # interprets other + self\n",
        "        return self + other  # addition commutes!\n",
        "\n",
        "    # subtraction\n",
        "    def __sub__(self, other):\n",
        "        if isinstance(other, Rational):\n",
        "            return self + Rational(-other.p, other.q)\n",
        "        elif isinstance(other, int):\n",
        "            return self + (-other)\n",
        "\n",
        "    # multiplication\n",
        "    def __mul__(self, other):\n",
        "        if isinstance(other, Rational):\n",
        "            return Rational(self.p * other.p, self.q * other.q)\n",
        "        elif isinstance(other, int):\n",
        "            return Rational(self.p * other, self.q)\n",
        "\n",
        "    # division\n",
        "    def __truediv__(self, other):\n",
        "        if isinstance(other, Rational):\n",
        "            return Rational(self.p * other.q, self.q * other.p)\n",
        "        elif isinstance(other, int):\n",
        "            return Rational(self.p, self.q * other)\n",
        "\n",
        "    def __rmul__(self, other):\n",
        "        return self * other;"
      ],
      "metadata": {
        "id": "DD6XREdE_oFt"
      },
      "execution_count": null,
      "outputs": []
    },
    {
      "cell_type": "code",
      "source": [
        "r1 = Rational(3,4)\n",
        "r2 = Rational(5,2)\n",
        "print(f\"r1 * r2 = {r1*r2}\")\n",
        "print(f\"r1 / r2 = {r1/r2}\")\n",
        "print(f\"r1 - r2 = {r1-r2}\")\n",
        "print(f\"float(r1/r2) = {float(r1/r2)}\")"
      ],
      "metadata": {
        "colab": {
          "base_uri": "https://localhost:8080/"
        },
        "id": "uPiVeSWTAkOk",
        "outputId": "ca39d6d0-5ad3-4270-e9e4-67fef46147e0"
      },
      "execution_count": null,
      "outputs": [
        {
          "output_type": "stream",
          "name": "stdout",
          "text": [
            "r1 * r2 = 15 / 8\n",
            "r1 / r2 = 3 / 10\n",
            "r1 - r2 = -7 / 4\n",
            "float(r1/r2) = 0.3\n"
          ]
        }
      ]
    },
    {
      "cell_type": "code",
      "source": [],
      "metadata": {
        "id": "uZ-IKYEuAt_-"
      },
      "execution_count": null,
      "outputs": []
    }
  ]
}